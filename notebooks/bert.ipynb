{
 "cells": [
  {
   "cell_type": "markdown",
   "metadata": {},
   "source": [
    "# BERT"
   ]
  },
  {
   "cell_type": "code",
   "execution_count": null,
   "metadata": {},
   "outputs": [],
   "source": [
    "import warnings\n",
    "warnings.filterwarnings(\"ignore\")\n",
    "\n",
    "import os\n",
    "import sys\n",
    "import random\n",
    "import shutil\n",
    "os.chdir('../')\n",
    "sys.path.append(os.getcwd())\n",
    "\n",
    "import numpy as np\n",
    "import pandas as pd\n",
    "import matplotlib.pyplot as plt\n",
    "import seaborn as sns\n",
    "\n",
    "import torch\n",
    "from transformers import BertTokenizerFast, BertForSequenceClassification\n",
    "from transformers import EarlyStoppingCallback, TrainingArguments, Trainer\n",
    "from transformers.tokenization_utils_base import BatchEncoding\n",
    "from transformers.trainer_utils import EvalPrediction\n",
    "from datasets import load_dataset\n",
    "from datasets.arrow_dataset import Dataset\n",
    "from IPython.display import clear_output\n",
    "from typing import Callable, Dict"
   ]
  },
  {
   "cell_type": "code",
   "execution_count": null,
   "metadata": {},
   "outputs": [],
   "source": [
    "def seed_everything(seed):\n",
    "    random.seed(seed)\n",
    "    os.environ['PYTHONHASHSEED'] = str(seed)\n",
    "    np.random.seed(seed)\n",
    "\n",
    "seed_everything(42)"
   ]
  },
  {
   "cell_type": "code",
   "execution_count": null,
   "metadata": {},
   "outputs": [],
   "source": [
    "MAX_LEN = 128\n",
    "VALID_SPLIT = 0.3\n",
    "BATCH_SIZE = 8\n",
    "EPOCHS = 3\n",
    "LEARNING_RATE = 1e-5\n",
    "DR_RATE = 0.3\n",
    "WARMUP_STEPS = 500\n",
    "WEIGHT_DECAY = 0.01\n",
    "METRIC = 'f1'\n",
    "\n",
    "# device = torch.device('cuda') if torch.cuda.is_available() else torch.device('cpu')\n",
    "device = torch.device('mps')"
   ]
  },
  {
   "cell_type": "markdown",
   "metadata": {},
   "source": [
    "## Load Data"
   ]
  },
  {
   "cell_type": "code",
   "execution_count": null,
   "metadata": {},
   "outputs": [
    {
     "name": "stdout",
     "output_type": "stream",
     "text": [
      "(4840, 2)\n"
     ]
    },
    {
     "data": {
      "text/html": [
       "<div>\n",
       "<style scoped>\n",
       "    .dataframe tbody tr th:only-of-type {\n",
       "        vertical-align: middle;\n",
       "    }\n",
       "\n",
       "    .dataframe tbody tr th {\n",
       "        vertical-align: top;\n",
       "    }\n",
       "\n",
       "    .dataframe thead th {\n",
       "        text-align: right;\n",
       "    }\n",
       "</style>\n",
       "<table border=\"1\" class=\"dataframe\">\n",
       "  <thead>\n",
       "    <tr style=\"text-align: right;\">\n",
       "      <th></th>\n",
       "      <th>text</th>\n",
       "      <th>label</th>\n",
       "    </tr>\n",
       "  </thead>\n",
       "  <tbody>\n",
       "    <tr>\n",
       "      <th>0</th>\n",
       "      <td>According to Gran , the company has no plans t...</td>\n",
       "      <td>0</td>\n",
       "    </tr>\n",
       "    <tr>\n",
       "      <th>1</th>\n",
       "      <td>Technopolis plans to develop in stages an area...</td>\n",
       "      <td>0</td>\n",
       "    </tr>\n",
       "    <tr>\n",
       "      <th>2</th>\n",
       "      <td>The international electronic industry company ...</td>\n",
       "      <td>2</td>\n",
       "    </tr>\n",
       "    <tr>\n",
       "      <th>3</th>\n",
       "      <td>With the new production plant the company woul...</td>\n",
       "      <td>1</td>\n",
       "    </tr>\n",
       "    <tr>\n",
       "      <th>4</th>\n",
       "      <td>According to the company 's updated strategy f...</td>\n",
       "      <td>1</td>\n",
       "    </tr>\n",
       "  </tbody>\n",
       "</table>\n",
       "</div>"
      ],
      "text/plain": [
       "                                                text  label\n",
       "0  According to Gran , the company has no plans t...      0\n",
       "1  Technopolis plans to develop in stages an area...      0\n",
       "2  The international electronic industry company ...      2\n",
       "3  With the new production plant the company woul...      1\n",
       "4  According to the company 's updated strategy f...      1"
      ]
     },
     "execution_count": null,
     "metadata": {},
     "output_type": "execute_result"
    }
   ],
   "source": [
    "df = pd.read_csv('./data/news.csv')\n",
    "LABELS = ['neutral', 'positive', 'negative']\n",
    "id2label = {idx:label for idx, label in enumerate(LABELS)}\n",
    "label2id = {label:idx for idx, label in enumerate(LABELS)}\n",
    "print(df.shape)\n",
    "df.head()"
   ]
  },
  {
   "cell_type": "code",
   "execution_count": null,
   "metadata": {},
   "outputs": [
    {
     "data": {
      "text/plain": [
       "0    2873\n",
       "1    1363\n",
       "2     604\n",
       "Name: label, dtype: int64"
      ]
     },
     "execution_count": null,
     "metadata": {},
     "output_type": "execute_result"
    }
   ],
   "source": [
    "df.label.value_counts()"
   ]
  },
  {
   "cell_type": "markdown",
   "metadata": {},
   "source": [
    "## FinBERT Demo"
   ]
  },
  {
   "cell_type": "code",
   "execution_count": null,
   "metadata": {},
   "outputs": [],
   "source": [
    "from transformers import pipeline\n",
    "\n",
    "MODEL_NAME = 'yiyanghkust/finbert-tone'\n",
    "finbert = BertForSequenceClassification.from_pretrained(MODEL_NAME, num_labels=len(LABELS))\n",
    "tokenizer = BertTokenizerFast.from_pretrained(MODEL_NAME)\n",
    "nlp = pipeline('sentiment-analysis', model=finbert, tokenizer=tokenizer)"
   ]
  },
  {
   "cell_type": "code",
   "execution_count": null,
   "metadata": {},
   "outputs": [
    {
     "name": "stdout",
     "output_type": "stream",
     "text": [
      "Accuracy: 0.79236\n"
     ]
    }
   ],
   "source": [
    "from sklearn.metrics import accuracy_score\n",
    "\n",
    "Y = df.label.replace(id2label).tolist()\n",
    "preds = [str(result['label']).lower() for result in nlp(df.text.tolist())]\n",
    "print('Accuracy:', round(accuracy_score(Y, preds), 5))"
   ]
  },
  {
   "cell_type": "markdown",
   "metadata": {},
   "source": [
    "## Data Preprocess"
   ]
  },
  {
   "cell_type": "code",
   "execution_count": null,
   "metadata": {},
   "outputs": [
    {
     "name": "stdout",
     "output_type": "stream",
     "text": [
      "(3388, 2) (1452, 2)\n"
     ]
    }
   ],
   "source": [
    "dataset = load_dataset('csv', data_files='./data/news.csv', split='train')\n",
    "dataset = dataset.train_test_split(test_size=VALID_SPLIT)\n",
    "clear_output()\n",
    "print(dataset['train'].shape, dataset['test'].shape)"
   ]
  },
  {
   "cell_type": "code",
   "execution_count": null,
   "metadata": {},
   "outputs": [],
   "source": [
    "def tokenize(model_path: str) -> Callable[[Dataset],BatchEncoding]:\n",
    "    tokenizer = BertTokenizerFast.from_pretrained(model_path, problem_type='multi_label_classification')\n",
    "    clear_output()\n",
    "    return lambda examples: tokenizer(examples['text'], max_length=MAX_LEN, padding='max_length', truncation=True)\n",
    "\n",
    "def one_hot(examples: Dataset) -> Dict[str,np.ndarray]:\n",
    "    return {'labels':np.eye(len(LABELS))[examples['label']]}\n",
    "\n",
    "def preprocess(data: Dataset, model_path: str, labeled=True) -> Dataset:\n",
    "    encoded = data.map(tokenize(model_path), batched=True, remove_columns=['text'], load_from_cache_file=False)\n",
    "    encoded = encoded.map(one_hot, remove_columns=['label'], load_from_cache_file=False) if labeled else encoded\n",
    "    encoded.set_format('torch')\n",
    "    return encoded"
   ]
  },
  {
   "cell_type": "markdown",
   "metadata": {},
   "source": [
    "## Load Model"
   ]
  },
  {
   "cell_type": "code",
   "execution_count": null,
   "metadata": {},
   "outputs": [],
   "source": [
    "def model(model_path: str, trainable=True) -> BertForSequenceClassification:\n",
    "    model = BertForSequenceClassification.from_pretrained(\n",
    "        model_path,\n",
    "        problem_type='multi_label_classification',\n",
    "        num_labels=len(LABELS),\n",
    "        id2label=id2label,\n",
    "        label2id=label2id,).to(device)\n",
    "    clear_output()\n",
    "\n",
    "    if not trainable:\n",
    "        for param in model.bert.parameters():\n",
    "            param.requires_grad = False\n",
    "\n",
    "    return model"
   ]
  },
  {
   "cell_type": "code",
   "execution_count": null,
   "metadata": {},
   "outputs": [],
   "source": [
    "from sklearn.metrics import precision_score, recall_score, f1_score, accuracy_score\n",
    "\n",
    "def compute_metrics(p: EvalPrediction) -> Dict:\n",
    "    predictions, labels = p\n",
    "    y_pred = np.argmax(predictions, axis=1)\n",
    "    y_true = np.argmax(labels, axis=1)\n",
    "    return {\n",
    "        'precision': precision_score(y_true=y_true, y_pred=y_pred, average='micro'),\n",
    "        'recall': recall_score(y_true=y_true, y_pred=y_pred, average='micro'),\n",
    "        'f1': f1_score(y_true=y_true, y_pred=y_pred, average='micro'),\n",
    "        'accuracy': accuracy_score(y_true=y_true, y_pred=y_pred),\n",
    "    }"
   ]
  },
  {
   "cell_type": "markdown",
   "metadata": {},
   "source": [
    "## Load Trainer"
   ]
  },
  {
   "cell_type": "code",
   "execution_count": null,
   "metadata": {},
   "outputs": [],
   "source": [
    "def make_dirs(name: str) -> Dict[str,str]:\n",
    "    required_dirs = {\n",
    "        'root':'./saved','model_root':'./saved/models','model_dir':f'./saved/models/{name}',\n",
    "        'logging_root':'./saved/logger','logging_dir':f'./saved/logger/{name}'}\n",
    "    for dir in required_dirs.values():\n",
    "        if not os.path.isdir(dir):\n",
    "            os.mkdir(dir)\n",
    "    return required_dirs\n",
    "\n",
    "def training_args(model_name: str) -> TrainingArguments:\n",
    "    required_dirs = make_dirs(model_name)\n",
    "    return TrainingArguments(\n",
    "        output_dir=required_dirs['model_dir'],\n",
    "        evaluation_strategy='epoch',\n",
    "        save_strategy='epoch',\n",
    "        num_train_epochs=EPOCHS,\n",
    "        per_device_train_batch_size=BATCH_SIZE,\n",
    "        per_device_eval_batch_size=BATCH_SIZE,\n",
    "        learning_rate=LEARNING_RATE,\n",
    "        warmup_steps=WARMUP_STEPS,\n",
    "        weight_decay=WEIGHT_DECAY,\n",
    "        logging_dir=required_dirs['logging_dir'],\n",
    "        load_best_model_at_end=True,\n",
    "        metric_for_best_model=METRIC,\n",
    "    )\n",
    "\n",
    "def trainer(dataset: Dataset, model_name: str, model_path: str, labeled=True, trainable=True) -> Trainer:\n",
    "    data_loader = preprocess(dataset, model_path, labeled)\n",
    "\n",
    "    return Trainer(\n",
    "        model=model(model_path, trainable),\n",
    "        args=training_args(model_name),\n",
    "        train_dataset=data_loader['train'],\n",
    "        eval_dataset=data_loader['test'],\n",
    "        compute_metrics=compute_metrics,\n",
    "        callbacks = [EarlyStoppingCallback(3)],\n",
    "    )"
   ]
  },
  {
   "cell_type": "markdown",
   "metadata": {},
   "source": [
    "## Compare Models"
   ]
  },
  {
   "cell_type": "code",
   "execution_count": null,
   "metadata": {},
   "outputs": [],
   "source": [
    "MODEL_PATH = {\n",
    "    'bert_base': 'bert-base-uncased',\n",
    "    'bert_large': 'bert-large-uncased',\n",
    "    'finbert': 'ProsusAI/finbert',\n",
    "    'finbert_tone': 'yiyanghkust/finbert-pretrain',\n",
    "}"
   ]
  },
  {
   "cell_type": "markdown",
   "metadata": {},
   "source": [
    "### BERT Base"
   ]
  },
  {
   "cell_type": "code",
   "execution_count": null,
   "metadata": {},
   "outputs": [],
   "source": [
    "bert_base_trainer = trainer(dataset, 'bert_base', MODEL_PATH['bert_base'], trainable=False)"
   ]
  },
  {
   "cell_type": "code",
   "execution_count": null,
   "metadata": {},
   "outputs": [],
   "source": [
    "bert_base_trainer.train()"
   ]
  },
  {
   "cell_type": "markdown",
   "metadata": {},
   "source": [
    "### BERT Large"
   ]
  },
  {
   "cell_type": "code",
   "execution_count": null,
   "metadata": {},
   "outputs": [],
   "source": [
    "bert_large_trainer = trainer(dataset, 'bert_large', MODEL_PATH['bert_large'], trainable=False)"
   ]
  },
  {
   "cell_type": "code",
   "execution_count": null,
   "metadata": {},
   "outputs": [],
   "source": [
    "bert_large_trainer.train()"
   ]
  },
  {
   "cell_type": "markdown",
   "metadata": {},
   "source": [
    "### FinBERT"
   ]
  },
  {
   "cell_type": "code",
   "execution_count": null,
   "metadata": {},
   "outputs": [],
   "source": [
    "finbert_trainer = trainer(dataset, 'finbert', MODEL_PATH['finbert'], trainable=False)"
   ]
  },
  {
   "cell_type": "code",
   "execution_count": null,
   "metadata": {},
   "outputs": [],
   "source": [
    "finbert_trainer.train()"
   ]
  },
  {
   "cell_type": "markdown",
   "metadata": {},
   "source": [
    "### FinBERT Tune"
   ]
  },
  {
   "cell_type": "code",
   "execution_count": null,
   "metadata": {},
   "outputs": [],
   "source": [
    "finbert_tone_trainer = trainer(dataset, 'finbert_tone', MODEL_PATH['finbert_tone'], trainable=False)"
   ]
  },
  {
   "cell_type": "code",
   "execution_count": null,
   "metadata": {},
   "outputs": [],
   "source": [
    "finbert_tone_trainer.train()"
   ]
  },
  {
   "cell_type": "markdown",
   "metadata": {},
   "source": [
    "## Visualization"
   ]
  },
  {
   "cell_type": "code",
   "execution_count": null,
   "metadata": {},
   "outputs": [
    {
     "data": {
      "text/html": [
       "<div>\n",
       "<style scoped>\n",
       "    .dataframe tbody tr th:only-of-type {\n",
       "        vertical-align: middle;\n",
       "    }\n",
       "\n",
       "    .dataframe tbody tr th {\n",
       "        vertical-align: top;\n",
       "    }\n",
       "\n",
       "    .dataframe thead th {\n",
       "        text-align: right;\n",
       "    }\n",
       "</style>\n",
       "<table border=\"1\" class=\"dataframe\">\n",
       "  <thead>\n",
       "    <tr style=\"text-align: right;\">\n",
       "      <th></th>\n",
       "      <th>bert_base</th>\n",
       "      <th>bert_large</th>\n",
       "      <th>finbert</th>\n",
       "      <th>finbert_tone</th>\n",
       "    </tr>\n",
       "  </thead>\n",
       "  <tbody>\n",
       "    <tr>\n",
       "      <th>epoch1</th>\n",
       "      <td>0.29545</td>\n",
       "      <td>0.61088</td>\n",
       "      <td>0.09366</td>\n",
       "      <td>0.61226</td>\n",
       "    </tr>\n",
       "    <tr>\n",
       "      <th>epoch2</th>\n",
       "      <td>0.60399</td>\n",
       "      <td>0.61019</td>\n",
       "      <td>0.62741</td>\n",
       "      <td>0.61226</td>\n",
       "    </tr>\n",
       "    <tr>\n",
       "      <th>epoch3</th>\n",
       "      <td>0.60468</td>\n",
       "      <td>0.61019</td>\n",
       "      <td>0.83127</td>\n",
       "      <td>0.61226</td>\n",
       "    </tr>\n",
       "  </tbody>\n",
       "</table>\n",
       "</div>"
      ],
      "text/plain": [
       "        bert_base  bert_large  finbert  finbert_tone\n",
       "epoch1    0.29545     0.61088  0.09366       0.61226\n",
       "epoch2    0.60399     0.61019  0.62741       0.61226\n",
       "epoch3    0.60468     0.61019  0.83127       0.61226"
      ]
     },
     "execution_count": null,
     "metadata": {},
     "output_type": "execute_result"
    }
   ],
   "source": [
    "import json\n",
    "from utils.fontlib import set_font_family\n",
    "\n",
    "history = dict()\n",
    "\n",
    "for model_name in MODEL_PATH.keys():\n",
    "    output_dir = './saved/models/'+model_name\n",
    "    recent_checkpoint = sorted(os.listdir(output_dir),key=lambda x: int(x.split('-')[1]))[-1]\n",
    "    trainer_state = output_dir+'/'+recent_checkpoint+'/trainer_state.json'\n",
    "\n",
    "    with open(trainer_state) as f:\n",
    "        log_history = json.load(f)['log_history']\n",
    "\n",
    "    history[model_name] = {'epoch'+str(int(log['epoch'])):round(log['eval_f1'],5) for log in log_history if log.get('eval_f1')}\n",
    "\n",
    "history = pd.DataFrame(history)\n",
    "history"
   ]
  },
  {
   "cell_type": "code",
   "execution_count": null,
   "metadata": {},
   "outputs": [
    {
     "data": {
      "image/png": "[encoded data removed]",
      "text/plain": [
       "<Figure size 720x288 with 1 Axes>"
      ]
     },
     "metadata": {
      "image/png": {
       "height": 281,
       "width": 610
      },
      "needs_background": "light"
     },
     "output_type": "display_data"
    }
   ],
   "source": [
    "f1 = history.values.reshape(-1).tolist()\n",
    "epochs = np.array([[e]*len(history.columns) for e in history.index]).reshape(-1).tolist()\n",
    "models = history.columns.tolist()*len(history)\n",
    "\n",
    "compare_df = pd.DataFrame({'f1_score':f1,'epoch':epochs,'model':models})\n",
    "\n",
    "set_font_family()\n",
    "fig = plt.figure(figsize=(10,4))\n",
    "sns.barplot(data=compare_df,x='model',y='f1_score',hue='epoch')\n",
    "plt.title('Compare BERT Models as Feature Extarctor', fontsize=16)\n",
    "plt.show()"
   ]
  },
  {
   "cell_type": "code",
   "execution_count": null,
   "metadata": {},
   "outputs": [],
   "source": [
    "# !tensorboard --logdir=saved/logger/bert_base"
   ]
  }
 ],
 "metadata": {
  "kernelspec": {
   "display_name": "Python 3.8.13 64-bit ('mldl')",
   "language": "python",
   "name": "python3"
  },
  "language_info": {
   "codemirror_mode": {
    "name": "ipython",
    "version": 3
   },
   "file_extension": ".py",
   "mimetype": "text/x-python",
   "name": "python",
   "nbconvert_exporter": "python",
   "pygments_lexer": "ipython3",
   "version": "3.8.13"
  },
  "orig_nbformat": 4,
  "vscode": {
   "interpreter": {
    "hash": "86ae205601b6d906014fa7892090616f7e1469eb0aa86f06d2d1803a695f1eb6"
   }
  }
 },
 "nbformat": 4,
 "nbformat_minor": 2
}
